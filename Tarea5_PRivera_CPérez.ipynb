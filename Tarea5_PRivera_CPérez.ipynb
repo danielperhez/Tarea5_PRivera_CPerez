{
 "cells": [
  {
   "cell_type": "markdown",
   "metadata": {},
   "source": [
    "<img style=\"float: left; margin: 30px 15px 15px 15px;\" src=\"https://pngimage.net/wp-content/uploads/2018/06/logo-iteso-png-5.png\" width=\"300\" height=\"500\" /> \n",
    "    \n",
    "    \n",
    "### <font color='navy'> Simulación de procesos financieros. \n",
    "\n",
    "**Nombres:** Carlos Daniel Pérez Hernández y Pablo Alejandro Rivera Sánchez\n",
    "\n",
    "**Fecha:** 8 de marzo de 2021.\n",
    "\n",
    "**Expediente** : if722627 y if721005\n",
    "**Profesor:** Oscar David Jaramillo Zuluaga.\n",
    "\n",
    "# Tarea 5"
   ]
  },
  {
   "cell_type": "markdown",
   "metadata": {},
   "source": [
    "Para las siguiente dos funciones, genere muestres aleatorias que distribuyan según la función dada usando el método de la transformada inversa y grafique el histograma de 1000 muestras generadas con el método de la transformada inversa y compárela con el función $f(x)$ **(recuerde que $f(x)$ es la distribución de probabilidad y $F(x)$ es la distribución de probabilidad acumulada)** [ver este enlace para más información](https://es.wikipedia.org/wiki/Funci%C3%B3n_de_distribuci%C3%B3n). Este procedimiento se realiza con el fín de validar que el procedimiento y los resultados son correctos."
   ]
  },
  {
   "cell_type": "markdown",
   "metadata": {},
   "source": [
    "### Ejercicio 1:\n",
    "Generación variable aleatoria continua\n",
    ">El tiempo en el cual un movimiento browniano se mantiene sobre su punto máximo en el intervalo [0,1] tiene una distribución\n",
    ">$$F(x)=\\frac{2}{\\pi}\\sin^{-1}(\\sqrt x),\\quad 0\\leq x\\leq 1$$ </font>"
   ]
  },
  {
   "cell_type": "markdown",
   "metadata": {},
   "source": [
    "#### Respuesta Pablo"
   ]
  },
  {
   "cell_type": "markdown",
   "metadata": {},
   "source": [
    "Despeje de U:\n",
    "\n",
    "$$\\frac{2}{\\pi}\\sin^{-1}(\\sqrt x) = U$$\n",
    "\n",
    "$$\\sin^{-1}(\\sqrt x) = \\frac{\\pi}{2}U$$\n",
    "\n",
    "$$\\sqrt x = \\sin({\\frac{\\pi}{2}U})$$\n",
    "\n",
    "$$x = \\sin^{2}({\\frac{\\pi}{2}U})$$"
   ]
  },
  {
   "cell_type": "markdown",
   "metadata": {},
   "source": [
    "Derivada de $F(x)$\n",
    "\n",
    "$$\\frac{dF(x)}{dx} = \\frac{2}{\\pi} \\frac{d}{dx} \\sin^{-1}(\\sqrt{x})$$\n",
    "\n",
    "$$ = \\frac{2}{\\pi} \\frac{1}{\\sqrt{1 - (\\sqrt{x})^2}} \\frac{d}{dx} \\sqrt{x} $$\n",
    "\n",
    "$$ = \\frac{2}{\\pi} \\frac{1}{\\sqrt{1 - (\\sqrt{x})^2}} \\frac{1}{2 \\sqrt{x}} $$\n",
    "\n",
    "$$ = \\frac{1}{\\pi \\sqrt{1 - (\\sqrt{x})^2}} \\frac{1}{\\sqrt{x}} $$\n",
    "\n",
    "$$ = \\frac{1}{\\pi \\sqrt{x} \\sqrt{1 - {x}} } $$"
   ]
  },
  {
   "cell_type": "code",
   "execution_count": 1,
   "metadata": {},
   "outputs": [],
   "source": [
    "import numpy as np\n",
    "import pandas as pd\n",
    "import scipy.stats as st \n",
    "import matplotlib.pyplot as plt\n",
    "%matplotlib inline"
   ]
  },
  {
   "cell_type": "code",
   "execution_count": 2,
   "metadata": {
    "scrolled": true
   },
   "outputs": [
    {
     "name": "stderr",
     "output_type": "stream",
     "text": [
      "<ipython-input-2-079dc7ab886e>:12: RuntimeWarning: divide by zero encountered in true_divide\n",
      "  y = 1 / (np.pi * (x ** (1/2)) * np.sqrt(1 - x))\n"
     ]
    },
    {
     "data": {
      "image/png": "[encoded data removed]",
      "text/plain": [
       "<Figure size 432x288 with 1 Axes>"
      ]
     },
     "metadata": {
      "needs_background": "light"
     },
     "output_type": "display_data"
    }
   ],
   "source": [
    "def dist_br(N):\n",
    "    # Variable aleatorias de la distribución\n",
    "    x_distr = np.zeros(N)\n",
    "    def distr_brown(i):\n",
    "        nonlocal x_distr\n",
    "        x_distr[i] = np.sin((np.pi / 2) * np.random.random()) ** 2\n",
    "        \n",
    "    [distr_brown(i) for i in range(N)]\n",
    "    \n",
    "    x = np.arange(0,1,0.01)\n",
    "    # Derivada\n",
    "    y = 1 / (np.pi * (x ** (1/2)) * np.sqrt(1 - x))\n",
    "    \n",
    "    plt.hist(x_distr, bins = 50, density = True)\n",
    "    plt.plot(x, y, linewidth = 4, color = 'red')\n",
    "    plt.title('Distribución y variable aleatorias')\n",
    "    plt.show()\n",
    "    \n",
    "dist_br(1000)"
   ]
  },
  {
   "cell_type": "markdown",
   "metadata": {},
   "source": [
    "Creamos una función que nos va a generar variables aleatorias de la distribución dada y va también a revisar que se estén generando de manera correcta graficando la distribución de probabilidad $f(x)$, si los cálculos fueron correctos, el histograma de las variable aleatorias debe estar acotado por la distribución de probabilidad $f(x)$. En este caso vemos que así sucede. Despejamos $F(x)$ e igualamos a U para despejar $x$, la cual, como se ve en la función, nos genera variable aleatorias con la distribución en un vector de ceros a través de una función anidada, solamente escribimos la fórmula que obtuvimos con los cálculos. Posteriormente, graficamos la función obtenida de la distribución de probabilidad $f(x)$ (fórmula) para comparar con el histograma de las $x$ generadas. "
   ]
  },
  {
   "cell_type": "markdown",
   "metadata": {},
   "source": [
    "#### Respuesta Daniel"
   ]
  },
  {
   "cell_type": "markdown",
   "metadata": {},
   "source": [
    "**Primero tenemos que igualar la ecuación a $U$**\n",
    "\n",
    "$$F(x) = \\frac{2}{\\pi}\\sin^{-1}(\\sqrt x)    \\rightarrow U = \\frac{2}{\\pi}\\sin^{-1}(\\sqrt x)$$\n",
    "\n",
    "**Ahora depejamos para $x$**\n",
    "\n",
    "$$U = \\frac{2}{\\pi}\\sin^{-1}(\\sqrt x) \\rightarrow {U\\pi} = {2}\\sin^{-1}(\\sqrt x) \\rightarrow \\frac{U\\pi}{2} = sin^{-1}(\\sqrt x) \\rightarrow sin{(\\frac{U\\pi}{2})} = \\sqrt x \\rightarrow sin^{2}{(\\frac{U\\pi}{2})} = x$$\n",
    "\n",
    "<font color = 'red'>  $$Solución: sin^{2}{(\\frac{U\\pi}{2})} = x$$"
   ]
  },
  {
   "cell_type": "markdown",
   "metadata": {},
   "source": [
    "**Segundo, tenemos qye encontrar la derivada de $U$**\n",
    "\n",
    "$$\\frac{dF(x)}{dx} = \\frac{d}{dx}[\\frac{2}{\\pi}\\sin^{-1}(\\sqrt x)]$$\n",
    "\n",
    "**Ahora derivamos con respecto de $x$**\n",
    "\n",
    "$$\\frac{2}{\\pi}\\frac{d}{dx}\\sin^{-1}(\\sqrt x) \\rightarrow \\frac{2}{\\pi}\\frac{1}{\\sqrt {1 - (\\sqrt x)^{2}}}\\frac{d}{dx}\\sqrt{x} \\rightarrow  \\frac{2}{\\pi}\\frac{1}{\\sqrt {1 - (\\sqrt x)^{2}}}\\frac{1}{2\\sqrt{x}} \\rightarrow \\frac{1}{\\pi\\sqrt{x}\\sqrt{1-x}} $$\n",
    "\n",
    "<font color = 'red'>  $$Solución: \\frac{1}{\\pi\\sqrt{x}\\sqrt{1-x}}$$"
   ]
  },
  {
   "cell_type": "code",
   "execution_count": 1,
   "metadata": {},
   "outputs": [],
   "source": [
    "import numpy as np\n",
    "import pandas as pd\n",
    "import matplotlib.pyplot as plt"
   ]
  },
  {
   "cell_type": "code",
   "execution_count": 59,
   "metadata": {},
   "outputs": [],
   "source": [
    "def distribucion(N):\n",
    "    x = np.zeros(N)\n",
    "    \n",
    "    def distribucion_browniano(i):\n",
    "        nonlocal x\n",
    "        u = np.random.random()\n",
    "        x[i] = np.sin((np.pi / 2) * u) ** 2\n",
    "        \n",
    "    [distribucion_browniano(i) for i in range(N)]\n",
    "    \n",
    "    intervalo = np.arange(0.001,1,0.001)\n",
    "    # Derivada\n",
    "    y = 1 / (np.pi * (intervalo ** (1/2)) * np.sqrt(1 - intervalo))\n",
    "    \n",
    "    plt.hist(x, bins = 100, density = True)\n",
    "    plt.grid()\n",
    "    plt.plot(intervalo, y, color = 'green', linewidth = 3)\n",
    "    plt.title('Distribución y variable aleatorias')\n",
    "    plt.show();"
   ]
  },
  {
   "cell_type": "code",
   "execution_count": 60,
   "metadata": {},
   "outputs": [
    {
     "data": {
      "image/png": "[encoded data removed]",
      "text/plain": [
       "<Figure size 432x288 with 1 Axes>"
      ]
     },
     "metadata": {
      "needs_background": "light"
     },
     "output_type": "display_data"
    }
   ],
   "source": [
    "distribucion(10000)"
   ]
  },
  {
   "cell_type": "markdown",
   "metadata": {},
   "source": [
    "### Ejercicio 2:\n",
    "Generación variable aleatoria Discreta\n",
    "> La distribución binomial modela el número de éxitos de n ensayos independientes donde hay una probabilidad p de éxito en cada ensayo.\n",
    "> Generar una variable aletoria binomial con parámetros $n=10$ y $p=0.7$. Recordar que $$X\\sim binomial(n,p) \\longrightarrow p_i=P(X=i)=\\frac{n!}{i!(n-i)!}p^i(1-p)^{n-i},\\quad i=0,1,\\cdots,n$$\n",
    "> Por propiedades de la operación factorial la anterior $p_i$ se puede escribir como:\n",
    "> $$p_{i+1}=\\frac{n-i}{i+1}\\frac{p}{1-p} p_i $$"
   ]
  },
  {
   "cell_type": "markdown",
   "metadata": {},
   "source": [
    "#### Respuesta Pablo"
   ]
  },
  {
   "cell_type": "code",
   "execution_count": 3,
   "metadata": {},
   "outputs": [],
   "source": [
    "def Gen_distr_discreta(p_acum: 'P.Acumulada de la distribución a generar',\n",
    "                       indices: 'valores reales a generar aleatoriamente',\n",
    "                       N: 'cantidad de números aleatorios a generar'):\n",
    "    \n",
    "    U = np.random.rand(N)\n",
    "    rand2reales = {i: idx for i, idx in enumerate(indices)}\n",
    "    y = pd.Series([sum([1 for p in p_acum if p < ui]) for ui in U]).map(rand2reales)\n",
    "\n",
    "    return y"
   ]
  },
  {
   "cell_type": "code",
   "execution_count": 4,
   "metadata": {},
   "outputs": [],
   "source": [
    "def plot_histogram_discrete(distribucion:'señal de varibles aleatorias de un distribución DISCRETA dada',\n",
    "                            label:'label del legend a aparecer en el gráfica',\n",
    "                            densidad:'por defecto regresa el histograma en densidad'=True):\n",
    "    plt.figure(figsize=[10,4])\n",
    "    y, x = np.histogram(distribucion, bins=len(set(distribucion)), density=densidad) #len(set) cuantos valores diferentes hay en distribución\n",
    "    plt.bar(x[1:], y, label=label)\n",
    "    plt.legend()\n",
    "    plt.show()"
   ]
  },
  {
   "cell_type": "code",
   "execution_count": 5,
   "metadata": {},
   "outputs": [],
   "source": [
    "def p_acum_dist_binom(n, p):\n",
    "    p_acum = np.zeros(n)\n",
    "    p_acum[0] = (1 - p)**n\n",
    "    def pb(i):\n",
    "        nonlocal p_acum\n",
    "        c  = p / (1 - p)\n",
    "        p_acum[i + 1] = (c * (n - i) / (i + 1)) * p_acum[i]\n",
    "        \n",
    "    [pb(i) for i in range(n - 1)]\n",
    "    \n",
    "    return np.cumsum(p_acum)"
   ]
  },
  {
   "cell_type": "code",
   "execution_count": 6,
   "metadata": {},
   "outputs": [
    {
     "data": {
      "image/png": "[encoded data removed]",
      "text/plain": [
       "<Figure size 720x288 with 1 Axes>"
      ]
     },
     "metadata": {
      "needs_background": "light"
     },
     "output_type": "display_data"
    }
   ],
   "source": [
    "p_acum_db = p_acum_dist_binom(10, 0.7)\n",
    "dist_binom = Gen_distr_discreta(p_acum_db, np.arange(0, 10 + 1), 1000)\n",
    "plot_histogram_discrete(dist_binom, 'Distribución binomial')"
   ]
  },
  {
   "cell_type": "markdown",
   "metadata": {},
   "source": [
    "Tomamos las funciones creadas y vistas en clase acerca de la creación de distribuciones discretas al igual que el histograma de las mismas. Para poder utilizar estas funciones necesitamos obtener la distribución de probabilidad acumulada de la distribución binomial con los parámetros dados, con esta, podemos crear la distribución de las variables discretas. Esto lo hacemos mediante la función creada la cual asigna los valores aleatorios generados (U) a un respectivo valor en la distribución de probabilidad acumulada, creando la distribución de probabilidad."
   ]
  },
  {
   "cell_type": "markdown",
   "metadata": {},
   "source": [
    "#### Respuesta Daniel"
   ]
  },
  {
   "cell_type": "code",
   "execution_count": 61,
   "metadata": {},
   "outputs": [],
   "source": [
    "# Función vista en clase\n",
    "\n",
    "def Gen_distr_discreta(p_acum: 'P.Acumulada de la distribución a generar',\n",
    "                       indices: 'valores reales a generar aleatoriamente',\n",
    "                       N: 'cantidad de números aleatorios a generar'):\n",
    "    \n",
    "    U = np.random.rand(N)\n",
    "    # Diccionario de valores aleatorios\n",
    "    rand2reales = {i: idx for i, idx in zip(range(len(indices)),indices)}\n",
    "\n",
    "    # Series de los valores aletorios\n",
    "    y = pd.Series([sum([1 for p in p_acum if p<ui]) for ui in U]).map(rand2reales)\n",
    "    \n",
    "    return y"
   ]
  },
  {
   "cell_type": "code",
   "execution_count": 62,
   "metadata": {},
   "outputs": [],
   "source": [
    "# Función de histograma vista en clase\n",
    "\n",
    "def plot_histogram_discrete(distribucion:'distribución a graficar histograma',\n",
    "                            label:'label del legend'):\n",
    "    # len(set(distribucion)) cuenta la cantidad de elementos distintos de la variable 'distribucion'\n",
    "    plt.figure(figsize=[8,4])\n",
    "    y,x = np.histogram(distribucion,bins = len(set(distribucion))) \n",
    "    plt.bar(list(set(distribucion)),y,label=label)\n",
    "    plt.legend()\n",
    "    plt.show()"
   ]
  },
  {
   "cell_type": "code",
   "execution_count": 68,
   "metadata": {},
   "outputs": [],
   "source": [
    "def distribucion_binomial(n,p):\n",
    "    probabilidad_acumulada = np.zeros(n)\n",
    "    probabilidad_acumulada[0] = (1-p)**n\n",
    "    \n",
    "    def ciclo(i):\n",
    "        nonlocal probabilidad_acumulada\n",
    "        a = p / (1-p)\n",
    "        probabilidad_acumulada[i+1] = probabilidad_acumulada[i] * ((a*(n-i)) / (i+1))\n",
    "        \n",
    "    [ciclo(i) for i in range(n-1)]\n",
    "    \n",
    "    return np.cumsum(probabilidad_acumulada)"
   ]
  },
  {
   "cell_type": "code",
   "execution_count": 69,
   "metadata": {},
   "outputs": [
    {
     "data": {
      "image/png": "[encoded data removed]",
      "text/plain": [
       "<Figure size 576x288 with 1 Axes>"
      ]
     },
     "metadata": {
      "needs_background": "light"
     },
     "output_type": "display_data"
    }
   ],
   "source": [
    "prob_acum = distribucion_binomial(10, 0.7)\n",
    "distribucion = Gen_distr_discreta(prob_acum, np.arange(0, 10 + 1), 1000)\n",
    "plot_histogram_discrete(distribucion, 'Distribución Binomial')"
   ]
  },
  {
   "cell_type": "markdown",
   "metadata": {},
   "source": [
    "**Nota:** Por notación recuerde que para el caso continuo $f(x)$ es la distribución de probabilidad (PDF), mientras $F(x)$ corresponde a la distribución de probabilidad acumulada (CDF). Para el caso discreto, $P(X=i)$ corresponde a su distribución de probabilidad (PMF) y $ F_{X}(x)=\\operatorname {P} (X\\leq x)=\\sum _{x_{i}\\leq x}\\operatorname {P} (X=x_{i})=\\sum _{x_{i}\\leq x}p(x_{i})$, corresponde a su distribución de probabilidad acumulada (CDF)."
   ]
  },
  {
   "cell_type": "markdown",
   "metadata": {},
   "source": [
    "### LINK REPOSITORIO\n",
    "[Link repositorio Github](https://github.com/danielperhez/Tarea5_PRivera_CPerez)"
   ]
  }
 ],
 "metadata": {
  "kernelspec": {
   "display_name": "Python 3",
   "language": "python",
   "name": "python3"
  },
  "language_info": {
   "codemirror_mode": {
    "name": "ipython",
    "version": 3
   },
   "file_extension": ".py",
   "mimetype": "text/x-python",
   "name": "python",
   "nbconvert_exporter": "python",
   "pygments_lexer": "ipython3",
   "version": "3.8.3"
  }
 },
 "nbformat": 4,
 "nbformat_minor": 4
}
